{
 "cells": [
  {
   "cell_type": "code",
   "execution_count": 1,
   "id": "b499ca96-ee88-451a-9a0b-f73caf76e97c",
   "metadata": {},
   "outputs": [],
   "source": [
    "import pandas as pd\n",
    "import numpy as np\n",
    "import matplotlib.pyplot as plt \n",
    "import seaborn as sns"
   ]
  },
  {
   "cell_type": "code",
   "execution_count": 2,
   "id": "636b4d2b-4da5-451f-a3c7-6135a42338bb",
   "metadata": {},
   "outputs": [
    {
     "data": {
      "text/html": [
       "<div>\n",
       "<style scoped>\n",
       "    .dataframe tbody tr th:only-of-type {\n",
       "        vertical-align: middle;\n",
       "    }\n",
       "\n",
       "    .dataframe tbody tr th {\n",
       "        vertical-align: top;\n",
       "    }\n",
       "\n",
       "    .dataframe thead th {\n",
       "        text-align: right;\n",
       "    }\n",
       "</style>\n",
       "<table border=\"1\" class=\"dataframe\">\n",
       "  <thead>\n",
       "    <tr style=\"text-align: right;\">\n",
       "      <th></th>\n",
       "      <th>Unnamed: 0</th>\n",
       "      <th>course_id</th>\n",
       "      <th>course_title</th>\n",
       "      <th>url</th>\n",
       "      <th>is_paid</th>\n",
       "      <th>price</th>\n",
       "      <th>num_subscribers</th>\n",
       "      <th>num_reviews</th>\n",
       "      <th>num_lectures</th>\n",
       "      <th>level</th>\n",
       "      <th>content_duration</th>\n",
       "      <th>published_timestamp</th>\n",
       "      <th>subject</th>\n",
       "      <th>clean_course_title</th>\n",
       "    </tr>\n",
       "  </thead>\n",
       "  <tbody>\n",
       "    <tr>\n",
       "      <th>0</th>\n",
       "      <td>0</td>\n",
       "      <td>1070968</td>\n",
       "      <td>Ultimate Investment Banking Course</td>\n",
       "      <td>https://www.udemy.com/ultimate-investment-bank...</td>\n",
       "      <td>True</td>\n",
       "      <td>200</td>\n",
       "      <td>2147</td>\n",
       "      <td>23</td>\n",
       "      <td>51</td>\n",
       "      <td>All Levels</td>\n",
       "      <td>1.5 hours</td>\n",
       "      <td>2017-01-18T20:58:58Z</td>\n",
       "      <td>Business Finance</td>\n",
       "      <td>Ultimate Investment Banking Course</td>\n",
       "    </tr>\n",
       "    <tr>\n",
       "      <th>1</th>\n",
       "      <td>1</td>\n",
       "      <td>1113822</td>\n",
       "      <td>Complete GST Course &amp; Certification - Grow You...</td>\n",
       "      <td>https://www.udemy.com/goods-and-services-tax/</td>\n",
       "      <td>True</td>\n",
       "      <td>75</td>\n",
       "      <td>2792</td>\n",
       "      <td>923</td>\n",
       "      <td>274</td>\n",
       "      <td>All Levels</td>\n",
       "      <td>39 hours</td>\n",
       "      <td>2017-03-09T16:34:20Z</td>\n",
       "      <td>Business Finance</td>\n",
       "      <td>Complete GST Course  Certification  Grow Practice</td>\n",
       "    </tr>\n",
       "    <tr>\n",
       "      <th>2</th>\n",
       "      <td>2</td>\n",
       "      <td>1006314</td>\n",
       "      <td>Financial Modeling for Business Analysts and C...</td>\n",
       "      <td>https://www.udemy.com/financial-modeling-for-b...</td>\n",
       "      <td>True</td>\n",
       "      <td>45</td>\n",
       "      <td>2174</td>\n",
       "      <td>74</td>\n",
       "      <td>51</td>\n",
       "      <td>Intermediate Level</td>\n",
       "      <td>2.5 hours</td>\n",
       "      <td>2016-12-19T19:26:30Z</td>\n",
       "      <td>Business Finance</td>\n",
       "      <td>Financial Modeling Business Analysts Consultants</td>\n",
       "    </tr>\n",
       "    <tr>\n",
       "      <th>3</th>\n",
       "      <td>3</td>\n",
       "      <td>1210588</td>\n",
       "      <td>Beginner to Pro - Financial Analysis in Excel ...</td>\n",
       "      <td>https://www.udemy.com/complete-excel-finance-c...</td>\n",
       "      <td>True</td>\n",
       "      <td>95</td>\n",
       "      <td>2451</td>\n",
       "      <td>11</td>\n",
       "      <td>36</td>\n",
       "      <td>All Levels</td>\n",
       "      <td>3 hours</td>\n",
       "      <td>2017-05-30T20:07:24Z</td>\n",
       "      <td>Business Finance</td>\n",
       "      <td>Beginner Pro  Financial Analysis Excel 2017</td>\n",
       "    </tr>\n",
       "    <tr>\n",
       "      <th>4</th>\n",
       "      <td>4</td>\n",
       "      <td>1011058</td>\n",
       "      <td>How To Maximize Your Profits Trading Options</td>\n",
       "      <td>https://www.udemy.com/how-to-maximize-your-pro...</td>\n",
       "      <td>True</td>\n",
       "      <td>200</td>\n",
       "      <td>1276</td>\n",
       "      <td>45</td>\n",
       "      <td>26</td>\n",
       "      <td>Intermediate Level</td>\n",
       "      <td>2 hours</td>\n",
       "      <td>2016-12-13T14:57:18Z</td>\n",
       "      <td>Business Finance</td>\n",
       "      <td>Maximize Profits Trading Options</td>\n",
       "    </tr>\n",
       "    <tr>\n",
       "      <th>...</th>\n",
       "      <td>...</td>\n",
       "      <td>...</td>\n",
       "      <td>...</td>\n",
       "      <td>...</td>\n",
       "      <td>...</td>\n",
       "      <td>...</td>\n",
       "      <td>...</td>\n",
       "      <td>...</td>\n",
       "      <td>...</td>\n",
       "      <td>...</td>\n",
       "      <td>...</td>\n",
       "      <td>...</td>\n",
       "      <td>...</td>\n",
       "      <td>...</td>\n",
       "    </tr>\n",
       "    <tr>\n",
       "      <th>3678</th>\n",
       "      <td>3678</td>\n",
       "      <td>775618</td>\n",
       "      <td>Learn jQuery from Scratch - Master of JavaScri...</td>\n",
       "      <td>https://www.udemy.com/easy-jquery-for-beginner...</td>\n",
       "      <td>True</td>\n",
       "      <td>100</td>\n",
       "      <td>1040</td>\n",
       "      <td>14</td>\n",
       "      <td>21</td>\n",
       "      <td>All Levels</td>\n",
       "      <td>2 hours</td>\n",
       "      <td>2016-06-14T17:36:46Z</td>\n",
       "      <td>Web Development</td>\n",
       "      <td>Learn jQuery Scratch  Master JavaScript library</td>\n",
       "    </tr>\n",
       "    <tr>\n",
       "      <th>3679</th>\n",
       "      <td>3679</td>\n",
       "      <td>1088178</td>\n",
       "      <td>How To Design A WordPress Website With No Codi...</td>\n",
       "      <td>https://www.udemy.com/how-to-make-a-wordpress-...</td>\n",
       "      <td>True</td>\n",
       "      <td>25</td>\n",
       "      <td>306</td>\n",
       "      <td>3</td>\n",
       "      <td>42</td>\n",
       "      <td>Beginner Level</td>\n",
       "      <td>3.5 hours</td>\n",
       "      <td>2017-03-10T22:24:30Z</td>\n",
       "      <td>Web Development</td>\n",
       "      <td>Design WordPress Website Coding</td>\n",
       "    </tr>\n",
       "    <tr>\n",
       "      <th>3680</th>\n",
       "      <td>3680</td>\n",
       "      <td>635248</td>\n",
       "      <td>Learn and Build using Polymer</td>\n",
       "      <td>https://www.udemy.com/learn-and-build-using-po...</td>\n",
       "      <td>True</td>\n",
       "      <td>40</td>\n",
       "      <td>513</td>\n",
       "      <td>169</td>\n",
       "      <td>48</td>\n",
       "      <td>All Levels</td>\n",
       "      <td>3.5 hours</td>\n",
       "      <td>2015-12-30T16:41:42Z</td>\n",
       "      <td>Web Development</td>\n",
       "      <td>Learn Build Polymer</td>\n",
       "    </tr>\n",
       "    <tr>\n",
       "      <th>3681</th>\n",
       "      <td>3681</td>\n",
       "      <td>905096</td>\n",
       "      <td>CSS Animations: Create Amazing Effects on Your...</td>\n",
       "      <td>https://www.udemy.com/css-animations-create-am...</td>\n",
       "      <td>True</td>\n",
       "      <td>50</td>\n",
       "      <td>300</td>\n",
       "      <td>31</td>\n",
       "      <td>38</td>\n",
       "      <td>All Levels</td>\n",
       "      <td>3 hours</td>\n",
       "      <td>2016-08-11T19:06:15Z</td>\n",
       "      <td>Web Development</td>\n",
       "      <td>CSS Animations Create Amazing Effects Website</td>\n",
       "    </tr>\n",
       "    <tr>\n",
       "      <th>3682</th>\n",
       "      <td>3682</td>\n",
       "      <td>297602</td>\n",
       "      <td>Using MODX CMS to Build Websites: A Beginner's...</td>\n",
       "      <td>https://www.udemy.com/using-modx-cms-to-build-...</td>\n",
       "      <td>True</td>\n",
       "      <td>45</td>\n",
       "      <td>901</td>\n",
       "      <td>36</td>\n",
       "      <td>20</td>\n",
       "      <td>Beginner Level</td>\n",
       "      <td>2 hours</td>\n",
       "      <td>2014-09-28T19:51:11Z</td>\n",
       "      <td>Web Development</td>\n",
       "      <td>MODX CMS Build Websites Beginners Guide</td>\n",
       "    </tr>\n",
       "  </tbody>\n",
       "</table>\n",
       "<p>3683 rows × 14 columns</p>\n",
       "</div>"
      ],
      "text/plain": [
       "      Unnamed: 0  course_id  \\\n",
       "0              0    1070968   \n",
       "1              1    1113822   \n",
       "2              2    1006314   \n",
       "3              3    1210588   \n",
       "4              4    1011058   \n",
       "...          ...        ...   \n",
       "3678        3678     775618   \n",
       "3679        3679    1088178   \n",
       "3680        3680     635248   \n",
       "3681        3681     905096   \n",
       "3682        3682     297602   \n",
       "\n",
       "                                           course_title  \\\n",
       "0                    Ultimate Investment Banking Course   \n",
       "1     Complete GST Course & Certification - Grow You...   \n",
       "2     Financial Modeling for Business Analysts and C...   \n",
       "3     Beginner to Pro - Financial Analysis in Excel ...   \n",
       "4          How To Maximize Your Profits Trading Options   \n",
       "...                                                 ...   \n",
       "3678  Learn jQuery from Scratch - Master of JavaScri...   \n",
       "3679  How To Design A WordPress Website With No Codi...   \n",
       "3680                      Learn and Build using Polymer   \n",
       "3681  CSS Animations: Create Amazing Effects on Your...   \n",
       "3682  Using MODX CMS to Build Websites: A Beginner's...   \n",
       "\n",
       "                                                    url is_paid price  \\\n",
       "0     https://www.udemy.com/ultimate-investment-bank...    True   200   \n",
       "1         https://www.udemy.com/goods-and-services-tax/    True    75   \n",
       "2     https://www.udemy.com/financial-modeling-for-b...    True    45   \n",
       "3     https://www.udemy.com/complete-excel-finance-c...    True    95   \n",
       "4     https://www.udemy.com/how-to-maximize-your-pro...    True   200   \n",
       "...                                                 ...     ...   ...   \n",
       "3678  https://www.udemy.com/easy-jquery-for-beginner...    True   100   \n",
       "3679  https://www.udemy.com/how-to-make-a-wordpress-...    True    25   \n",
       "3680  https://www.udemy.com/learn-and-build-using-po...    True    40   \n",
       "3681  https://www.udemy.com/css-animations-create-am...    True    50   \n",
       "3682  https://www.udemy.com/using-modx-cms-to-build-...    True    45   \n",
       "\n",
       "      num_subscribers  num_reviews  num_lectures               level  \\\n",
       "0                2147           23            51          All Levels   \n",
       "1                2792          923           274          All Levels   \n",
       "2                2174           74            51  Intermediate Level   \n",
       "3                2451           11            36          All Levels   \n",
       "4                1276           45            26  Intermediate Level   \n",
       "...               ...          ...           ...                 ...   \n",
       "3678             1040           14            21          All Levels   \n",
       "3679              306            3            42      Beginner Level   \n",
       "3680              513          169            48          All Levels   \n",
       "3681              300           31            38          All Levels   \n",
       "3682              901           36            20      Beginner Level   \n",
       "\n",
       "     content_duration   published_timestamp           subject  \\\n",
       "0           1.5 hours  2017-01-18T20:58:58Z  Business Finance   \n",
       "1            39 hours  2017-03-09T16:34:20Z  Business Finance   \n",
       "2           2.5 hours  2016-12-19T19:26:30Z  Business Finance   \n",
       "3             3 hours  2017-05-30T20:07:24Z  Business Finance   \n",
       "4             2 hours  2016-12-13T14:57:18Z  Business Finance   \n",
       "...               ...                   ...               ...   \n",
       "3678          2 hours  2016-06-14T17:36:46Z   Web Development   \n",
       "3679        3.5 hours  2017-03-10T22:24:30Z   Web Development   \n",
       "3680        3.5 hours  2015-12-30T16:41:42Z   Web Development   \n",
       "3681          3 hours  2016-08-11T19:06:15Z   Web Development   \n",
       "3682          2 hours  2014-09-28T19:51:11Z   Web Development   \n",
       "\n",
       "                                     clean_course_title  \n",
       "0                    Ultimate Investment Banking Course  \n",
       "1     Complete GST Course  Certification  Grow Practice  \n",
       "2      Financial Modeling Business Analysts Consultants  \n",
       "3           Beginner Pro  Financial Analysis Excel 2017  \n",
       "4                      Maximize Profits Trading Options  \n",
       "...                                                 ...  \n",
       "3678    Learn jQuery Scratch  Master JavaScript library  \n",
       "3679                    Design WordPress Website Coding  \n",
       "3680                                Learn Build Polymer  \n",
       "3681      CSS Animations Create Amazing Effects Website  \n",
       "3682            MODX CMS Build Websites Beginners Guide  \n",
       "\n",
       "[3683 rows x 14 columns]"
      ]
     },
     "execution_count": 2,
     "metadata": {},
     "output_type": "execute_result"
    }
   ],
   "source": [
    "df= pd.read_csv('udemy_courses_clean.csv') \n",
    "df"
   ]
  },
  {
   "cell_type": "markdown",
   "id": "39bda15f-1d93-4daa-a6c3-f88f076a6a6d",
   "metadata": {},
   "source": [
    "#****subject****"
   ]
  },
  {
   "cell_type": "code",
   "execution_count": 4,
   "id": "b403de87-d248-49e3-aa50-d4a309ff9212",
   "metadata": {},
   "outputs": [
    {
     "data": {
      "text/plain": [
       "array(['Business Finance', 'Graphic Design', 'Musical Instruments',\n",
       "       'Web Development'], dtype=object)"
      ]
     },
     "execution_count": 4,
     "metadata": {},
     "output_type": "execute_result"
    }
   ],
   "source": [
    "df['subject'].unique()"
   ]
  },
  {
   "cell_type": "code",
   "execution_count": 5,
   "id": "b79b06ee-c5c9-4d72-b79a-50f6bf2867ba",
   "metadata": {},
   "outputs": [
    {
     "data": {
      "text/plain": [
       "4"
      ]
     },
     "execution_count": 5,
     "metadata": {},
     "output_type": "execute_result"
    }
   ],
   "source": [
    "len(df['subject'].unique())"
   ]
  },
  {
   "cell_type": "code",
   "execution_count": 6,
   "id": "d97d301b-8f22-491d-a4a4-6cfd30dd1092",
   "metadata": {},
   "outputs": [
    {
     "data": {
      "image/png": "[encoded data removed]",
      "text/plain": [
       "<Figure size 640x480 with 1 Axes>"
      ]
     },
     "metadata": {},
     "output_type": "display_data"
    }
   ],
   "source": [
    "df['subject'].value_counts().plot(kind='bar',color='orange')\n",
    "plt.xticks(rotation=45)\n",
    "plt.show()"
   ]
  },
  {
   "cell_type": "markdown",
   "id": "e6efb510-287d-4665-8536-fa9084dcc073",
   "metadata": {},
   "source": [
    "#****num_subscribers****"
   ]
  },
  {
   "cell_type": "code",
   "execution_count": 8,
   "id": "8679ba5e-37d0-4523-8a7e-44f06dbb2c64",
   "metadata": {
    "scrolled": true
   },
   "outputs": [
    {
     "data": {
      "text/plain": [
       "subject\n",
       "Business Finance       1870747\n",
       "Graphic Design         1063148\n",
       "Musical Instruments     846719\n",
       "Web Development        7980572\n",
       "Name: num_subscribers, dtype: int64"
      ]
     },
     "execution_count": 8,
     "metadata": {},
     "output_type": "execute_result"
    }
   ],
   "source": [
    "#Number of subscribers per Subject\n",
    "df.groupby('subject')['num_subscribers'].sum()"
   ]
  },
  {
   "cell_type": "code",
   "execution_count": 9,
   "id": "b338bdff-5554-488f-90a8-1ff76090ad3d",
   "metadata": {},
   "outputs": [
    {
     "data": {
      "text/plain": [
       "3193.3711648112953"
      ]
     },
     "execution_count": 9,
     "metadata": {},
     "output_type": "execute_result"
    }
   ],
   "source": [
    "df['num_subscribers'].mean()"
   ]
  },
  {
   "cell_type": "code",
   "execution_count": 10,
   "id": "59cc8dc3-05b6-4bfd-993e-b73a3c6d834e",
   "metadata": {},
   "outputs": [
    {
     "data": {
      "text/plain": [
       "0"
      ]
     },
     "execution_count": 10,
     "metadata": {},
     "output_type": "execute_result"
    }
   ],
   "source": [
    "df['num_subscribers'].min()"
   ]
  },
  {
   "cell_type": "code",
   "execution_count": 11,
   "id": "6973b95f-acb0-4ef6-8edb-2bbdbf073e74",
   "metadata": {},
   "outputs": [
    {
     "data": {
      "text/plain": [
       "268923"
      ]
     },
     "execution_count": 11,
     "metadata": {},
     "output_type": "execute_result"
    }
   ],
   "source": [
    "df['num_subscribers'].max()"
   ]
  },
  {
   "cell_type": "code",
   "execution_count": 12,
   "id": "df3f294c-4e09-4904-aa9a-b39c87727e12",
   "metadata": {},
   "outputs": [
    {
     "data": {
      "text/plain": [
       "11761186"
      ]
     },
     "execution_count": 12,
     "metadata": {},
     "output_type": "execute_result"
    }
   ],
   "source": [
    "df['num_subscribers'].sum()"
   ]
  },
  {
   "cell_type": "code",
   "execution_count": 13,
   "id": "b58e9c24-6e16-4dc8-a2da-f4c385fe856e",
   "metadata": {},
   "outputs": [
    {
     "data": {
      "text/plain": [
       "2832"
      ]
     },
     "execution_count": 13,
     "metadata": {},
     "output_type": "execute_result"
    }
   ],
   "source": [
    "df['num_subscribers'].idxmax()"
   ]
  },
  {
   "cell_type": "code",
   "execution_count": 14,
   "id": "aa68f839-69d3-42d1-bd87-5c57599a966c",
   "metadata": {},
   "outputs": [
    {
     "data": {
      "text/plain": [
       "Unnamed: 0                                                          2832\n",
       "course_id                                                          41295\n",
       "course_title                        Learn HTML5 Programming From Scratch\n",
       "url                    https://www.udemy.com/learn-html5-programming-...\n",
       "is_paid                                                            False\n",
       "price                                                               Free\n",
       "num_subscribers                                                   268923\n",
       "num_reviews                                                         8629\n",
       "num_lectures                                                          45\n",
       "level                                                         All Levels\n",
       "content_duration                                              10.5 hours\n",
       "published_timestamp                                 2013-02-14T07:03:41Z\n",
       "subject                                                  Web Development\n",
       "clean_course_title                       Learn HTML5 Programming Scratch\n",
       "Name: 2832, dtype: object"
      ]
     },
     "execution_count": 14,
     "metadata": {},
     "output_type": "execute_result"
    }
   ],
   "source": [
    "#Location of The highest number of subscribers\n",
    "df.iloc[2832]"
   ]
  },
  {
   "cell_type": "markdown",
   "id": "2122f2b6-e073-45dd-916f-eb03ba3b90cb",
   "metadata": {},
   "source": [
    "#****Level****"
   ]
  },
  {
   "cell_type": "code",
   "execution_count": 16,
   "id": "173a75e7-0a1b-410f-b6ba-d3639043ea16",
   "metadata": {},
   "outputs": [
    {
     "data": {
      "text/plain": [
       "array(['All Levels', 'Intermediate Level', 'Beginner Level',\n",
       "       'Expert Level', '52'], dtype=object)"
      ]
     },
     "execution_count": 16,
     "metadata": {},
     "output_type": "execute_result"
    }
   ],
   "source": [
    "df['level'].unique()"
   ]
  },
  {
   "cell_type": "code",
   "execution_count": 17,
   "id": "611977f8-e94c-43ee-b091-6d5feb87d3c2",
   "metadata": {},
   "outputs": [
    {
     "data": {
      "text/html": [
       "<div>\n",
       "<style scoped>\n",
       "    .dataframe tbody tr th:only-of-type {\n",
       "        vertical-align: middle;\n",
       "    }\n",
       "\n",
       "    .dataframe tbody tr th {\n",
       "        vertical-align: top;\n",
       "    }\n",
       "\n",
       "    .dataframe thead th {\n",
       "        text-align: right;\n",
       "    }\n",
       "</style>\n",
       "<table border=\"1\" class=\"dataframe\">\n",
       "  <thead>\n",
       "    <tr style=\"text-align: right;\">\n",
       "      <th></th>\n",
       "      <th>Unnamed: 0</th>\n",
       "      <th>course_id</th>\n",
       "      <th>course_title</th>\n",
       "      <th>url</th>\n",
       "      <th>is_paid</th>\n",
       "      <th>price</th>\n",
       "      <th>num_subscribers</th>\n",
       "      <th>num_reviews</th>\n",
       "      <th>num_lectures</th>\n",
       "      <th>level</th>\n",
       "      <th>content_duration</th>\n",
       "      <th>published_timestamp</th>\n",
       "      <th>subject</th>\n",
       "      <th>clean_course_title</th>\n",
       "    </tr>\n",
       "  </thead>\n",
       "  <tbody>\n",
       "    <tr>\n",
       "      <th>2066</th>\n",
       "      <td>2066</td>\n",
       "      <td>96698</td>\n",
       "      <td>Learn Classical Guitar Technique and play 'Spa...</td>\n",
       "      <td>000!\"</td>\n",
       "      <td>https://www.udemy.com/learnguitartoworship/</td>\n",
       "      <td>TRUE</td>\n",
       "      <td>30</td>\n",
       "      <td>1463</td>\n",
       "      <td>29</td>\n",
       "      <td>52</td>\n",
       "      <td>Beginner Level</td>\n",
       "      <td>3 hours</td>\n",
       "      <td>Musical Instruments</td>\n",
       "      <td>Learn Classical Guitar Technique play Spanish ...</td>\n",
       "    </tr>\n",
       "  </tbody>\n",
       "</table>\n",
       "</div>"
      ],
      "text/plain": [
       "      Unnamed: 0  course_id  \\\n",
       "2066        2066      96698   \n",
       "\n",
       "                                           course_title    url  \\\n",
       "2066  Learn Classical Guitar Technique and play 'Spa...  000!\"   \n",
       "\n",
       "                                          is_paid price  num_subscribers  \\\n",
       "2066  https://www.udemy.com/learnguitartoworship/  TRUE               30   \n",
       "\n",
       "      num_reviews  num_lectures level content_duration published_timestamp  \\\n",
       "2066         1463            29    52   Beginner Level             3 hours   \n",
       "\n",
       "                  subject                                 clean_course_title  \n",
       "2066  Musical Instruments  Learn Classical Guitar Technique play Spanish ...  "
      ]
     },
     "execution_count": 17,
     "metadata": {},
     "output_type": "execute_result"
    }
   ],
   "source": [
    "F=(df['level']=='52')\n",
    "df[F]"
   ]
  },
  {
   "cell_type": "code",
   "execution_count": 18,
   "id": "277efa8a-d54c-46b4-9e2b-e47754099f78",
   "metadata": {},
   "outputs": [],
   "source": [
    "df['level'] = df['level'].replace('52','Unknown')"
   ]
  },
  {
   "cell_type": "code",
   "execution_count": 19,
   "id": "f310f87f-869f-41eb-a050-0d02ba269f53",
   "metadata": {},
   "outputs": [
    {
     "data": {
      "text/plain": [
       "level\n",
       "All Levels            1932\n",
       "Beginner Level        1271\n",
       "Intermediate Level     421\n",
       "Expert Level            58\n",
       "Unknown                  1\n",
       "Name: count, dtype: int64"
      ]
     },
     "execution_count": 19,
     "metadata": {},
     "output_type": "execute_result"
    }
   ],
   "source": [
    "df['level'].value_counts()"
   ]
  },
  {
   "cell_type": "code",
   "execution_count": 20,
   "id": "13a95376-a427-4a8c-9bc8-bc23705506aa",
   "metadata": {},
   "outputs": [
    {
     "data": {
      "image/png": "[encoded data removed]",
      "text/plain": [
       "<Figure size 640x480 with 1 Axes>"
      ]
     },
     "metadata": {},
     "output_type": "display_data"
    }
   ],
   "source": [
    "df['level'].value_counts().plot(kind='bar',color='orange')\n",
    "plt.xticks(rotation=45)\n",
    "plt.show()"
   ]
  },
  {
   "cell_type": "code",
   "execution_count": 21,
   "id": "2ece71d3-d4ef-408b-b81e-5f4009d57a39",
   "metadata": {},
   "outputs": [
    {
     "data": {
      "text/plain": [
       "level\n",
       "All Levels            6916112\n",
       "Beginner Level        4052843\n",
       "Expert Level            50196\n",
       "Intermediate Level     742005\n",
       "Unknown                    30\n",
       "Name: num_subscribers, dtype: int64"
      ]
     },
     "execution_count": 21,
     "metadata": {},
     "output_type": "execute_result"
    }
   ],
   "source": [
    "#Number of subscribers per level\n",
    "df.groupby('level')['num_subscribers'].sum()"
   ]
  },
  {
   "cell_type": "code",
   "execution_count": 22,
   "id": "04f3ab1e-97c8-4fdf-9196-5b701665ae8b",
   "metadata": {},
   "outputs": [
    {
     "data": {
      "image/png": "[encoded data removed]",
      "text/plain": [
       "<Figure size 640x480 with 1 Axes>"
      ]
     },
     "metadata": {},
     "output_type": "display_data"
    }
   ],
   "source": [
    "df.groupby('level')['num_subscribers'].sum().plot(kind='bar', color='Orange')\n",
    "plt.xticks(rotation=40)\n",
    "plt.show()"
   ]
  },
  {
   "cell_type": "code",
   "execution_count": 23,
   "id": "c119782d-57e0-4f51-85b8-6a901f1cb987",
   "metadata": {},
   "outputs": [
    {
     "data": {
      "text/plain": [
       "subject              level             \n",
       "Business Finance     All Levels            699\n",
       "                     Beginner Level        341\n",
       "                     Intermediate Level    128\n",
       "                     Expert Level           31\n",
       "Graphic Design       All Levels            298\n",
       "                     Beginner Level        243\n",
       "                     Intermediate Level     57\n",
       "                     Expert Level            5\n",
       "Musical Instruments  Beginner Level        296\n",
       "                     All Levels            276\n",
       "                     Intermediate Level    101\n",
       "                     Expert Level            7\n",
       "                     Unknown                 1\n",
       "Web Development      All Levels            659\n",
       "                     Beginner Level        391\n",
       "                     Intermediate Level    135\n",
       "                     Expert Level           15\n",
       "Name: count, dtype: int64"
      ]
     },
     "execution_count": 23,
     "metadata": {},
     "output_type": "execute_result"
    }
   ],
   "source": [
    "df.groupby('subject')['level'].value_counts()"
   ]
  },
  {
   "cell_type": "code",
   "execution_count": 24,
   "id": "4d4e8130-e5c1-449d-a230-11288874aba7",
   "metadata": {},
   "outputs": [
    {
     "data": {
      "image/png": "[encoded data removed]",
      "text/plain": [
       "<Figure size 640x480 with 1 Axes>"
      ]
     },
     "metadata": {},
     "output_type": "display_data"
    }
   ],
   "source": [
    "df.groupby('subject')['level'].value_counts().plot(kind='bar',color='blue')\n",
    "plt.xticks(rotation=50,fontsize=5)\n",
    "plt.show()"
   ]
  },
  {
   "cell_type": "code",
   "execution_count": 25,
   "id": "52ec1df3-5922-4719-8e1d-720b34167b07",
   "metadata": {},
   "outputs": [
    {
     "data": {
      "image/png": "[encoded data removed]",
      "text/plain": [
       "<Figure size 1500x1000 with 1 Axes>"
      ]
     },
     "metadata": {},
     "output_type": "display_data"
    }
   ],
   "source": [
    "plt.figure(figsize=(15,10))\n",
    "sns.barplot(x='level',y='num_subscribers',data=df, hue='subject')\n",
    "plt.show()"
   ]
  },
  {
   "cell_type": "code",
   "execution_count": 26,
   "id": "8371919f-333b-4e15-8e44-6fd32b15431a",
   "metadata": {},
   "outputs": [],
   "source": [
    "def func_draw(x):\n",
    "    plt.figure(figsize=(20,10))\n",
    "    sns.barplot(x='level',y=x, data=df,hue='subject')\n",
    "    plt.title('plot of {} per level per subject'.format(x))\n",
    "    plt.show()"
   ]
  },
  {
   "cell_type": "code",
   "execution_count": 27,
   "id": "a07e1f8f-8561-4f7c-9ab9-02c006740390",
   "metadata": {},
   "outputs": [
    {
     "data": {
      "image/png": "[encoded data removed]",
      "text/plain": [
       "<Figure size 2000x1000 with 1 Axes>"
      ]
     },
     "metadata": {},
     "output_type": "display_data"
    }
   ],
   "source": [
    "func_draw('num_lectures')"
   ]
  },
  {
   "cell_type": "code",
   "execution_count": 28,
   "id": "0bd89c38-55b4-4c49-9f4e-caf228133e5f",
   "metadata": {},
   "outputs": [],
   "source": [
    "def func_pie(x):\n",
    "    plt.figure(figsize=(5,5))\n",
    "    df.groupby('level')[x].sum().plot(kind='pie')\n",
    "    plt.title('plot of {} per level'.format(x))\n",
    "    plt.show()"
   ]
  },
  {
   "cell_type": "code",
   "execution_count": 29,
   "id": "787610f0-079f-487f-be09-60394678e4bd",
   "metadata": {},
   "outputs": [
    {
     "data": {
      "image/png": "[encoded data removed]",
      "text/plain": [
       "<Figure size 500x500 with 1 Axes>"
      ]
     },
     "metadata": {},
     "output_type": "display_data"
    }
   ],
   "source": [
    "func_pie('num_reviews')"
   ]
  },
  {
   "cell_type": "code",
   "execution_count": 30,
   "id": "11b428dd-0785-4d93-a11c-eadb5a55d3ac",
   "metadata": {},
   "outputs": [
    {
     "data": {
      "text/plain": [
       "dtype('O')"
      ]
     },
     "execution_count": 30,
     "metadata": {},
     "output_type": "execute_result"
    }
   ],
   "source": [
    "df['price'].dtype"
   ]
  },
  {
   "cell_type": "code",
   "execution_count": 31,
   "id": "164c5255-251e-4714-8640-6146e9452807",
   "metadata": {},
   "outputs": [
    {
     "data": {
      "text/plain": [
       "array(['200', '75', '45', '95', '150', '65', '195', '30', '20', '50',\n",
       "       '175', '140', '115', '190', '125', '60', '145', '105', '155',\n",
       "       '185', '180', '120', '25', '160', '40', 'Free', '100', '90', '35',\n",
       "       '80', '70', '55', '165', '130', '85', '170', '110', '135', 'TRUE'],\n",
       "      dtype=object)"
      ]
     },
     "execution_count": 31,
     "metadata": {},
     "output_type": "execute_result"
    }
   ],
   "source": [
    "df['price'].unique()"
   ]
  },
  {
   "cell_type": "code",
   "execution_count": 32,
   "id": "5cd2fb8b-ab97-4a14-b3c0-695af4a734f9",
   "metadata": {},
   "outputs": [],
   "source": [
    "df['price'] = df['price'].str.replace('Free|TRUE', '0', regex=True)"
   ]
  },
  {
   "cell_type": "code",
   "execution_count": 33,
   "id": "9e14db0b-72cf-46c3-8810-b89b4c659d45",
   "metadata": {},
   "outputs": [
    {
     "data": {
      "text/plain": [
       "array(['200', '75', '45', '95', '150', '65', '195', '30', '20', '50',\n",
       "       '175', '140', '115', '190', '125', '60', '145', '105', '155',\n",
       "       '185', '180', '120', '25', '160', '40', '0', '100', '90', '35',\n",
       "       '80', '70', '55', '165', '130', '85', '170', '110', '135'],\n",
       "      dtype=object)"
      ]
     },
     "execution_count": 33,
     "metadata": {},
     "output_type": "execute_result"
    }
   ],
   "source": [
    "df['price'].unique()"
   ]
  },
  {
   "cell_type": "code",
   "execution_count": 34,
   "id": "349330f5-42ca-4095-91f4-bb69b131ce2c",
   "metadata": {},
   "outputs": [],
   "source": [
    "df['price']=df['price'].astype(float)"
   ]
  },
  {
   "cell_type": "code",
   "execution_count": 35,
   "id": "005aa1a7-3792-4ce7-8f3f-9d26143e4afc",
   "metadata": {},
   "outputs": [
    {
     "data": {
      "text/plain": [
       "65.99239750203638"
      ]
     },
     "execution_count": 35,
     "metadata": {},
     "output_type": "execute_result"
    }
   ],
   "source": [
    "df['price'].mean()"
   ]
  },
  {
   "cell_type": "code",
   "execution_count": 36,
   "id": "a6bbeb7a-dfa4-49eb-a089-ff50ba8ebdbb",
   "metadata": {},
   "outputs": [
    {
     "data": {
      "text/plain": [
       "200.0"
      ]
     },
     "execution_count": 36,
     "metadata": {},
     "output_type": "execute_result"
    }
   ],
   "source": [
    "df['price'].max()"
   ]
  },
  {
   "cell_type": "code",
   "execution_count": 37,
   "id": "d981612a-760e-4cb9-a773-7aa66fe38649",
   "metadata": {},
   "outputs": [
    {
     "data": {
      "text/plain": [
       "0.0"
      ]
     },
     "execution_count": 37,
     "metadata": {},
     "output_type": "execute_result"
    }
   ],
   "source": [
    "df['price'].min()"
   ]
  },
  {
   "cell_type": "code",
   "execution_count": 38,
   "id": "cb3c18b4-2038-4fee-90f5-ef2a67d2c678",
   "metadata": {},
   "outputs": [
    {
     "data": {
      "text/plain": [
       "0"
      ]
     },
     "execution_count": 38,
     "metadata": {},
     "output_type": "execute_result"
    }
   ],
   "source": [
    "df['price'].idxmax()"
   ]
  },
  {
   "cell_type": "code",
   "execution_count": 39,
   "id": "66646483-93fc-4184-8fcf-6c3bca9f1a97",
   "metadata": {},
   "outputs": [
    {
     "data": {
      "text/plain": [
       "Unnamed: 0                                                             0\n",
       "course_id                                                        1070968\n",
       "course_title                          Ultimate Investment Banking Course\n",
       "url                    https://www.udemy.com/ultimate-investment-bank...\n",
       "is_paid                                                             True\n",
       "price                                                              200.0\n",
       "num_subscribers                                                     2147\n",
       "num_reviews                                                           23\n",
       "num_lectures                                                          51\n",
       "level                                                         All Levels\n",
       "content_duration                                               1.5 hours\n",
       "published_timestamp                                 2017-01-18T20:58:58Z\n",
       "subject                                                 Business Finance\n",
       "clean_course_title                    Ultimate Investment Banking Course\n",
       "Name: 0, dtype: object"
      ]
     },
     "execution_count": 39,
     "metadata": {},
     "output_type": "execute_result"
    }
   ],
   "source": [
    "#Location of the max price\n",
    "df.iloc[0]"
   ]
  },
  {
   "cell_type": "code",
   "execution_count": 40,
   "id": "0973359d-cd34-4709-8f89-fa543776fee4",
   "metadata": {},
   "outputs": [],
   "source": [
    "df['profit']=df['price']*df['num_subscribers']"
   ]
  },
  {
   "cell_type": "code",
   "execution_count": 41,
   "id": "bfe42c38-ee3e-4c2b-815b-d9237e755bbd",
   "metadata": {
    "scrolled": true
   },
   "outputs": [
    {
     "data": {
      "text/plain": [
       "[429400.0,\n",
       " 209400.0,\n",
       " 97830.0,\n",
       " 232845.0,\n",
       " 255200.0,\n",
       " 1383150.0,\n",
       " 100100.0,\n",
       " 277115.0,\n",
       " 1008540.0,\n",
       " 165400.0,\n",
       " 856800.0,\n",
       " 276000.0,\n",
       " 108210.0,\n",
       " 791895.0,\n",
       " 58800.0,\n",
       " 170700.0,\n",
       " 98380.0,\n",
       " 533200.0,\n",
       " 267700.0,\n",
       " 769025.0,\n",
       " 161800.0,\n",
       " 459000.0,\n",
       " 761175.0,\n",
       " 95800.0,\n",
       " 112815.0,\n",
       " 867900.0,\n",
       " 1066800.0,\n",
       " 700875.0,\n",
       " 431550.0,\n",
       " 143640.0,\n",
       " 110675.0,\n",
       " 368600.0,\n",
       " 395865.0,\n",
       " 206000.0,\n",
       " 208200.0,\n",
       " 1537380.0,\n",
       " 3295500.0,\n",
       " 2288200.0,\n",
       " 4340115.0,\n",
       " 1672125.0,\n",
       " 4773795.0,\n",
       " 743145.0,\n",
       " 973245.0,\n",
       " 861235.0,\n",
       " 4039000.0,\n",
       " 1506300.0,\n",
       " 34865.0,\n",
       " 2120600.0,\n",
       " 227430.0,\n",
       " 433950.0,\n",
       " 316000.0,\n",
       " 1007475.0,\n",
       " 374500.0,\n",
       " 186570.0,\n",
       " 222600.0,\n",
       " 498840.0,\n",
       " 1114400.0,\n",
       " 207785.0,\n",
       " 18720.0,\n",
       " 131600.0,\n",
       " 852705.0,\n",
       " 251220.0,\n",
       " 1463975.0,\n",
       " 651000.0,\n",
       " 1469085.0,\n",
       " 252000.0,\n",
       " 1818000.0,\n",
       " 631250.0,\n",
       " 462000.0,\n",
       " 1022680.0,\n",
       " 806375.0,\n",
       " 1177430.0,\n",
       " 358600.0,\n",
       " 64460.0,\n",
       " 983100.0,\n",
       " 297400.0,\n",
       " 590200.0,\n",
       " 323640.0,\n",
       " 596850.0,\n",
       " 79750.0,\n",
       " 281200.0,\n",
       " 680320.0,\n",
       " 239160.0,\n",
       " 735585.0,\n",
       " 106700.0,\n",
       " 242800.0,\n",
       " 77400.0,\n",
       " 429200.0,\n",
       " 94380.0,\n",
       " 211400.0,\n",
       " 35080.0,\n",
       " 24780.0,\n",
       " 236835.0,\n",
       " 30000.0,\n",
       " 390300.0,\n",
       " 29970.0,\n",
       " 80000.0,\n",
       " 0.0,\n",
       " 27220.0,\n",
       " 6100.0,\n",
       " 113475.0,\n",
       " 27480.0,\n",
       " 84120.0,\n",
       " 29600.0,\n",
       " 62900.0,\n",
       " 0.0,\n",
       " 98550.0,\n",
       " 167400.0,\n",
       " 0.0,\n",
       " 335985.0,\n",
       " 0.0,\n",
       " 41200.0,\n",
       " 347700.0,\n",
       " 204535.0,\n",
       " 0.0,\n",
       " 63540.0,\n",
       " 230250.0,\n",
       " 20540.0,\n",
       " 7675.0,\n",
       " 314400.0,\n",
       " 65750.0,\n",
       " 0.0,\n",
       " 52800.0,\n",
       " 398160.0,\n",
       " 147300.0,\n",
       " 27100.0,\n",
       " 94275.0,\n",
       " 628600.0,\n",
       " 39020.0,\n",
       " 361980.0,\n",
       " 0.0,\n",
       " 45660.0,\n",
       " 41335.0,\n",
       " 92600.0,\n",
       " 466100.0,\n",
       " 49450.0,\n",
       " 116820.0,\n",
       " 217400.0,\n",
       " 122200.0,\n",
       " 115320.0,\n",
       " 1352250.0,\n",
       " 13220.0,\n",
       " 113085.0,\n",
       " 121000.0,\n",
       " 528450.0,\n",
       " 0.0,\n",
       " 144400.0,\n",
       " 174000.0,\n",
       " 287400.0,\n",
       " 90600.0,\n",
       " 48740.0,\n",
       " 151710.0,\n",
       " 578740.0,\n",
       " 430350.0,\n",
       " 418020.0,\n",
       " 14540.0,\n",
       " 31200.0,\n",
       " 209400.0,\n",
       " 130625.0,\n",
       " 610000.0,\n",
       " 597600.0,\n",
       " 91805.0,\n",
       " 384800.0,\n",
       " 760800.0,\n",
       " 495960.0,\n",
       " 276900.0,\n",
       " 140000.0,\n",
       " 133600.0,\n",
       " 102150.0,\n",
       " 206600.0,\n",
       " 16640.0,\n",
       " 132015.0,\n",
       " 62500.0,\n",
       " 54050.0,\n",
       " 329000.0,\n",
       " 401760.0,\n",
       " 187800.0,\n",
       " 423000.0,\n",
       " 100350.0,\n",
       " 102650.0,\n",
       " 143440.0,\n",
       " 0.0,\n",
       " 104200.0,\n",
       " 44440.0,\n",
       " 54850.0,\n",
       " 501200.0,\n",
       " 117000.0,\n",
       " 202710.0,\n",
       " 213720.0,\n",
       " 340600.0,\n",
       " 65070.0,\n",
       " 54720.0,\n",
       " 400000.0,\n",
       " 63975.0,\n",
       " 61880.0,\n",
       " 0.0,\n",
       " 82340.0,\n",
       " 27380.0,\n",
       " 183600.0,\n",
       " 77400.0,\n",
       " 179400.0,\n",
       " 58995.0,\n",
       " 80280.0,\n",
       " 31780.0,\n",
       " 23780.0,\n",
       " 35050.0,\n",
       " 55250.0,\n",
       " 6150.0,\n",
       " 0.0,\n",
       " 17700.0,\n",
       " 43620.0,\n",
       " 0.0,\n",
       " 3240.0,\n",
       " 25080.0,\n",
       " 29250.0,\n",
       " 0.0,\n",
       " 222600.0,\n",
       " 70205.0,\n",
       " 24020.0,\n",
       " 123700.0,\n",
       " 98800.0,\n",
       " 150100.0,\n",
       " 24680.0,\n",
       " 44700.0,\n",
       " 45860.0,\n",
       " 218800.0,\n",
       " 28980.0,\n",
       " 65020.0,\n",
       " 36420.0,\n",
       " 91350.0,\n",
       " 22640.0,\n",
       " 13120.0,\n",
       " 66780.0,\n",
       " 254200.0,\n",
       " 31480.0,\n",
       " 27860.0,\n",
       " 20580.0,\n",
       " 25290.0,\n",
       " 164350.0,\n",
       " 59100.0,\n",
       " 75400.0,\n",
       " 164350.0,\n",
       " 63000.0,\n",
       " 82745.0,\n",
       " 78300.0,\n",
       " 313635.0,\n",
       " 116760.0,\n",
       " 87080.0,\n",
       " 62020.0,\n",
       " 37000.0,\n",
       " 0.0,\n",
       " 0.0,\n",
       " 600.0,\n",
       " 260.0,\n",
       " 400.0,\n",
       " 0.0,\n",
       " 1000.0,\n",
       " 245.0,\n",
       " 4340.0,\n",
       " 1650.0,\n",
       " 6550.0,\n",
       " 150.0,\n",
       " 5800.0,\n",
       " 2700.0,\n",
       " 136800.0,\n",
       " 39280.0,\n",
       " 206600.0,\n",
       " 86735.0,\n",
       " 418400.0,\n",
       " 212800.0,\n",
       " 138030.0,\n",
       " 73825.0,\n",
       " 136375.0,\n",
       " 51065.0,\n",
       " 145650.0,\n",
       " 201700.0,\n",
       " 11400.0,\n",
       " 910.0,\n",
       " 350.0,\n",
       " 2450.0,\n",
       " 220.0,\n",
       " 180.0,\n",
       " 1820.0,\n",
       " 880.0,\n",
       " 13250.0,\n",
       " 0.0,\n",
       " 2700.0,\n",
       " 620.0,\n",
       " 13020.0,\n",
       " 36660.0,\n",
       " 0.0,\n",
       " 58400.0,\n",
       " 0.0,\n",
       " 0.0,\n",
       " 27240.0,\n",
       " 19500.0,\n",
       " 26220.0,\n",
       " 14050.0,\n",
       " 69240.0,\n",
       " 0.0,\n",
       " 136800.0,\n",
       " 0.0,\n",
       " 9500.0,\n",
       " 0.0,\n",
       " 39725.0,\n",
       " 42020.0,\n",
       " 209600.0,\n",
       " 34800.0,\n",
       " 34980.0,\n",
       " 94960.0,\n",
       " 88410.0,\n",
       " 5750.0,\n",
       " 860.0,\n",
       " 4125.0,\n",
       " 1620.0,\n",
       " 560.0,\n",
       " 1410.0,\n",
       " 26800.0,\n",
       " 3060.0,\n",
       " 3525.0,\n",
       " 1050.0,\n",
       " 2400.0,\n",
       " 1360.0,\n",
       " 42200.0,\n",
       " 40900.0,\n",
       " 23360.0,\n",
       " 58550.0,\n",
       " 45360.0,\n",
       " 48350.0,\n",
       " 237000.0,\n",
       " 126200.0,\n",
       " 58080.0,\n",
       " 203760.0,\n",
       " 5700.0,\n",
       " 40800.0,\n",
       " 46440.0,\n",
       " 20450.0,\n",
       " 46760.0,\n",
       " 12450.0,\n",
       " 13800.0,\n",
       " 201000.0,\n",
       " 26030.0,\n",
       " 0.0,\n",
       " 38460.0,\n",
       " 44800.0,\n",
       " 14420.0,\n",
       " 3060.0,\n",
       " 248820.0,\n",
       " 0.0,\n",
       " 0.0,\n",
       " 0.0,\n",
       " 50355.0,\n",
       " 259100.0,\n",
       " 20920.0,\n",
       " 44780.0,\n",
       " 376400.0,\n",
       " 0.0,\n",
       " 0.0,\n",
       " 550080.0,\n",
       " 97725.0,\n",
       " 73100.0,\n",
       " 70250.0,\n",
       " 0.0,\n",
       " 168720.0,\n",
       " 65720.0,\n",
       " 80100.0,\n",
       " 137895.0,\n",
       " 38340.0,\n",
       " 59200.0,\n",
       " 22300.0,\n",
       " 21720.0,\n",
       " 74600.0,\n",
       " 76950.0,\n",
       " 210420.0,\n",
       " 68060.0,\n",
       " 352125.0,\n",
       " 0.0,\n",
       " 134600.0,\n",
       " 127480.0,\n",
       " 334225.0,\n",
       " 58900.0,\n",
       " 1320.0,\n",
       " 112050.0,\n",
       " 543000.0,\n",
       " 301200.0,\n",
       " 329550.0,\n",
       " 67600.0,\n",
       " 26900.0,\n",
       " 55380.0,\n",
       " 38275.0,\n",
       " 142000.0,\n",
       " 109350.0,\n",
       " 32180.0,\n",
       " 57900.0,\n",
       " 204600.0,\n",
       " 298200.0,\n",
       " 210600.0,\n",
       " 89940.0,\n",
       " 380640.0,\n",
       " 198600.0,\n",
       " 310140.0,\n",
       " 28460.0,\n",
       " 142200.0,\n",
       " 28350.0,\n",
       " 217000.0,\n",
       " 1431800.0,\n",
       " 1151700.0,\n",
       " 50.0,\n",
       " 200.0,\n",
       " 2050.0,\n",
       " 1600.0,\n",
       " 2150.0,\n",
       " 690.0,\n",
       " 180.0,\n",
       " 500.0,\n",
       " 175.0,\n",
       " 540.0,\n",
       " 200.0,\n",
       " 1450.0,\n",
       " 680.0,\n",
       " 3300.0,\n",
       " 2520.0,\n",
       " 1920.0,\n",
       " 9600.0,\n",
       " 540.0,\n",
       " 3340.0,\n",
       " 2620.0,\n",
       " 0.0,\n",
       " 740.0,\n",
       " 760.0,\n",
       " 1290.0,\n",
       " 22530.0,\n",
       " 1715.0,\n",
       " 900.0,\n",
       " 0.0,\n",
       " 0.0,\n",
       " 3720.0,\n",
       " 162200.0,\n",
       " 47800.0,\n",
       " 23940.0,\n",
       " 2470.0,\n",
       " 3185.0,\n",
       " 900.0,\n",
       " 44070.0,\n",
       " 3120.0,\n",
       " 17355.0,\n",
       " 53400.0,\n",
       " 0.0,\n",
       " 5300.0,\n",
       " 40920.0,\n",
       " 12100.0,\n",
       " 23600.0,\n",
       " 19400.0,\n",
       " 7840.0,\n",
       " 47200.0,\n",
       " 0.0,\n",
       " 0.0,\n",
       " 0.0,\n",
       " 0.0,\n",
       " 0.0,\n",
       " 0.0,\n",
       " 0.0,\n",
       " 0.0,\n",
       " 0.0,\n",
       " 0.0,\n",
       " 0.0,\n",
       " 0.0,\n",
       " 24750.0,\n",
       " 20625.0,\n",
       " 0.0,\n",
       " 5660.0,\n",
       " 12920.0,\n",
       " 4600.0,\n",
       " 37565.0,\n",
       " 30900.0,\n",
       " 4700.0,\n",
       " 18220.0,\n",
       " 10240.0,\n",
       " 38450.0,\n",
       " 28690.0,\n",
       " 5960.0,\n",
       " 3960.0,\n",
       " 1650.0,\n",
       " 650.0,\n",
       " 1580.0,\n",
       " 2780.0,\n",
       " 0.0,\n",
       " 2125.0,\n",
       " 2250.0,\n",
       " 1650.0,\n",
       " 6480.0,\n",
       " 299600.0,\n",
       " 46340.0,\n",
       " 0.0,\n",
       " 0.0,\n",
       " 114190.0,\n",
       " 0.0,\n",
       " 43780.0,\n",
       " 71115.0,\n",
       " 239800.0,\n",
       " 142125.0,\n",
       " 294840.0,\n",
       " 361200.0,\n",
       " 13360.0,\n",
       " 0.0,\n",
       " 16560.0,\n",
       " 4440.0,\n",
       " 3705.0,\n",
       " 119535.0,\n",
       " 5415.0,\n",
       " 4920.0,\n",
       " 2905.0,\n",
       " 12090.0,\n",
       " 6200.0,\n",
       " 38535.0,\n",
       " 60.0,\n",
       " 90.0,\n",
       " 40.0,\n",
       " 60.0,\n",
       " 20.0,\n",
       " 30.0,\n",
       " 40.0,\n",
       " 20.0,\n",
       " 80.0,\n",
       " 105.0,\n",
       " 20.0,\n",
       " 0.0,\n",
       " 14620.0,\n",
       " 13200.0,\n",
       " 4845.0,\n",
       " 91260.0,\n",
       " 900.0,\n",
       " 56250.0,\n",
       " 4000.0,\n",
       " 30400.0,\n",
       " 2220.0,\n",
       " 3880.0,\n",
       " 29600.0,\n",
       " 60610.0,\n",
       " 1280.0,\n",
       " 8800.0,\n",
       " 40700.0,\n",
       " 10550.0,\n",
       " 15360.0,\n",
       " 580.0,\n",
       " 7800.0,\n",
       " 0.0,\n",
       " 18800.0,\n",
       " 16050.0,\n",
       " 20300.0,\n",
       " 19700.0,\n",
       " 32850.0,\n",
       " 1120.0,\n",
       " 11310.0,\n",
       " 52350.0,\n",
       " 9130.0,\n",
       " 12100.0,\n",
       " 1900.0,\n",
       " 4600.0,\n",
       " 8680.0,\n",
       " 3120.0,\n",
       " 1050.0,\n",
       " 4000.0,\n",
       " 368790.0,\n",
       " 266565.0,\n",
       " 75950.0,\n",
       " 81000.0,\n",
       " 121300.0,\n",
       " 21840.0,\n",
       " 101980.0,\n",
       " 173800.0,\n",
       " 3540.0,\n",
       " 0.0,\n",
       " 165395.0,\n",
       " 0.0,\n",
       " 80.0,\n",
       " 50.0,\n",
       " 100.0,\n",
       " 380.0,\n",
       " 400.0,\n",
       " 400.0,\n",
       " 550.0,\n",
       " 360.0,\n",
       " 320.0,\n",
       " 120.0,\n",
       " 220.0,\n",
       " 20.0,\n",
       " 4200.0,\n",
       " 80.0,\n",
       " 54600.0,\n",
       " 4740.0,\n",
       " 0.0,\n",
       " 4300.0,\n",
       " 8160.0,\n",
       " 11400.0,\n",
       " 4500.0,\n",
       " 740.0,\n",
       " 7200.0,\n",
       " 21800.0,\n",
       " 1000.0,\n",
       " 3700.0,\n",
       " 5920.0,\n",
       " 5200.0,\n",
       " 28405.0,\n",
       " 280.0,\n",
       " 1300.0,\n",
       " 2525.0,\n",
       " 3680.0,\n",
       " 1520.0,\n",
       " 280.0,\n",
       " 810.0,\n",
       " 420.0,\n",
       " 360.0,\n",
       " 525.0,\n",
       " 980.0,\n",
       " 3360.0,\n",
       " 800.0,\n",
       " 40.0,\n",
       " 67200.0,\n",
       " 400.0,\n",
       " 560.0,\n",
       " 1650.0,\n",
       " 220.0,\n",
       " 70200.0,\n",
       " 23780.0,\n",
       " 0.0,\n",
       " 20000.0,\n",
       " 0.0,\n",
       " 29600.0,\n",
       " 116090.0,\n",
       " 76600.0,\n",
       " 0.0,\n",
       " 68600.0,\n",
       " 32400.0,\n",
       " 101550.0,\n",
       " 210.0,\n",
       " 800.0,\n",
       " 420.0,\n",
       " 725.0,\n",
       " 1000.0,\n",
       " 200.0,\n",
       " 725.0,\n",
       " 180.0,\n",
       " 720.0,\n",
       " 2800.0,\n",
       " 2200.0,\n",
       " 140.0,\n",
       " 171970.0,\n",
       " 18960.0,\n",
       " 61850.0,\n",
       " 102600.0,\n",
       " 389785.0,\n",
       " 67005.0,\n",
       " 24615.0,\n",
       " 33535.0,\n",
       " 48165.0,\n",
       " 215800.0,\n",
       " 660060.0,\n",
       " 111100.0,\n",
       " 900.0,\n",
       " 9000.0,\n",
       " 650.0,\n",
       " 7460.0,\n",
       " 15300.0,\n",
       " 700.0,\n",
       " 1020.0,\n",
       " 260.0,\n",
       " 0.0,\n",
       " 13880.0,\n",
       " 8220.0,\n",
       " 540.0,\n",
       " 71800.0,\n",
       " 0.0,\n",
       " 40950.0,\n",
       " 9800.0,\n",
       " 38095.0,\n",
       " 14020.0,\n",
       " 5130.0,\n",
       " 10250.0,\n",
       " 2170.0,\n",
       " 2280.0,\n",
       " 114405.0,\n",
       " 17840.0,\n",
       " 2550.0,\n",
       " 320.0,\n",
       " 2340.0,\n",
       " 2940.0,\n",
       " 140.0,\n",
       " 4940.0,\n",
       " 5005.0,\n",
       " 111780.0,\n",
       " 300.0,\n",
       " 200.0,\n",
       " 0.0,\n",
       " 4540.0,\n",
       " 560000.0,\n",
       " 26580.0,\n",
       " 0.0,\n",
       " 131750.0,\n",
       " 131250.0,\n",
       " 319200.0,\n",
       " 171250.0,\n",
       " 255360.0,\n",
       " 87600.0,\n",
       " 327600.0,\n",
       " 51150.0,\n",
       " 339800.0,\n",
       " 53550.0,\n",
       " 20740.0,\n",
       " 21185.0,\n",
       " 26120.0,\n",
       " 11500.0,\n",
       " 45620.0,\n",
       " 235100.0,\n",
       " 9150.0,\n",
       " 13025.0,\n",
       " 7560.0,\n",
       " 220200.0,\n",
       " 11150.0,\n",
       " 2700.0,\n",
       " 460.0,\n",
       " 4480.0,\n",
       " 0.0,\n",
       " 7600.0,\n",
       " 8010.0,\n",
       " 7750.0,\n",
       " 4350.0,\n",
       " 0.0,\n",
       " 7700.0,\n",
       " 0.0,\n",
       " 15510.0,\n",
       " 92330.0,\n",
       " 72850.0,\n",
       " 121000.0,\n",
       " 960.0,\n",
       " 195850.0,\n",
       " 22440.0,\n",
       " 83160.0,\n",
       " 50080.0,\n",
       " 102160.0,\n",
       " 134145.0,\n",
       " 122300.0,\n",
       " 387500.0,\n",
       " 50760.0,\n",
       " 0.0,\n",
       " 4500.0,\n",
       " 880.0,\n",
       " 6160.0,\n",
       " 2750.0,\n",
       " 0.0,\n",
       " 8240.0,\n",
       " 360.0,\n",
       " 17200.0,\n",
       " 11760.0,\n",
       " 810.0,\n",
       " 73125.0,\n",
       " 8930.0,\n",
       " 0.0,\n",
       " 0.0,\n",
       " 3100.0,\n",
       " 86600.0,\n",
       " 67440.0,\n",
       " 43700.0,\n",
       " 50400.0,\n",
       " 12800.0,\n",
       " 234600.0,\n",
       " 0.0,\n",
       " 2450.0,\n",
       " 4960.0,\n",
       " 2100.0,\n",
       " 2340.0,\n",
       " 0.0,\n",
       " 140.0,\n",
       " 600.0,\n",
       " 8645.0,\n",
       " 1120.0,\n",
       " 4150.0,\n",
       " 52955.0,\n",
       " 0.0,\n",
       " 0.0,\n",
       " 0.0,\n",
       " 0.0,\n",
       " 50.0,\n",
       " 0.0,\n",
       " 0.0,\n",
       " 0.0,\n",
       " 0.0,\n",
       " 0.0,\n",
       " 0.0,\n",
       " 0.0,\n",
       " 0.0,\n",
       " 44220.0,\n",
       " 110800.0,\n",
       " 117015.0,\n",
       " 46740.0,\n",
       " 35540.0,\n",
       " 42050.0,\n",
       " 11200.0,\n",
       " 381800.0,\n",
       " 46500.0,\n",
       " 25100.0,\n",
       " 23860.0,\n",
       " 183260.0,\n",
       " 74760.0,\n",
       " 55200.0,\n",
       " 15700.0,\n",
       " 330140.0,\n",
       " 44250.0,\n",
       " 45200.0,\n",
       " 69150.0,\n",
       " 22800.0,\n",
       " 61020.0,\n",
       " 21480.0,\n",
       " 22000.0,\n",
       " 19560.0,\n",
       " 7200.0,\n",
       " 1480.0,\n",
       " 1560.0,\n",
       " 1000.0,\n",
       " 1755.0,\n",
       " 1850.0,\n",
       " 0.0,\n",
       " 3900.0,\n",
       " 1050.0,\n",
       " 0.0,\n",
       " 350.0,\n",
       " 4200.0,\n",
       " 420150.0,\n",
       " 0.0,\n",
       " 0.0,\n",
       " 11925.0,\n",
       " 66700.0,\n",
       " 0.0,\n",
       " 0.0,\n",
       " 51600.0,\n",
       " 0.0,\n",
       " 47660.0,\n",
       " 0.0,\n",
       " 66250.0,\n",
       " 31020.0,\n",
       " 27250.0,\n",
       " 16575.0,\n",
       " 0.0,\n",
       " 103125.0,\n",
       " 14000.0,\n",
       " 42840.0,\n",
       " 17060.0,\n",
       " 510.0,\n",
       " 19850.0,\n",
       " 14430.0,\n",
       " 25080.0,\n",
       " 5340.0,\n",
       " 760.0,\n",
       " 900.0,\n",
       " 2060.0,\n",
       " 350.0,\n",
       " 9880.0,\n",
       " 6300.0,\n",
       " 10140.0,\n",
       " 4820.0,\n",
       " 11300.0,\n",
       " 1000.0,\n",
       " 5000.0,\n",
       " 4950.0,\n",
       " 3960.0,\n",
       " 35760.0,\n",
       " 10450.0,\n",
       " 0.0,\n",
       " 2835.0,\n",
       " 0.0,\n",
       " 12920.0,\n",
       " 10400.0,\n",
       " 43200.0,\n",
       " 67800.0,\n",
       " 13350.0,\n",
       " 1050.0,\n",
       " 1200.0,\n",
       " 4180.0,\n",
       " 0.0,\n",
       " 1440.0,\n",
       " 500.0,\n",
       " 0.0,\n",
       " 150.0,\n",
       " 20.0,\n",
       " 500.0,\n",
       " 60.0,\n",
       " 680.0,\n",
       " 0.0,\n",
       " 0.0,\n",
       " 0.0,\n",
       " 0.0,\n",
       " 0.0,\n",
       " 0.0,\n",
       " 0.0,\n",
       " 0.0,\n",
       " 0.0,\n",
       " 0.0,\n",
       " 0.0,\n",
       " 0.0,\n",
       " 27540.0,\n",
       " 15960.0,\n",
       " 15600.0,\n",
       " 30180.0,\n",
       " 4240.0,\n",
       " 11550.0,\n",
       " 18000.0,\n",
       " 4590.0,\n",
       " 52750.0,\n",
       " 3140.0,\n",
       " 20600.0,\n",
       " 0.0,\n",
       " 1160.0,\n",
       " 1480.0,\n",
       " 0.0,\n",
       " 540.0,\n",
       " 5700.0,\n",
       " 810.0,\n",
       " 1360.0,\n",
       " 2240.0,\n",
       " 1440.0,\n",
       " 48575.0,\n",
       " 4400.0,\n",
       " 1230.0,\n",
       " 20.0,\n",
       " 480.0,\n",
       " 75.0,\n",
       " 180.0,\n",
       " 70.0,\n",
       " 240.0,\n",
       " 200.0,\n",
       " 240.0,\n",
       " 100.0,\n",
       " 20.0,\n",
       " 190.0,\n",
       " 180.0,\n",
       " 1470.0,\n",
       " 3300.0,\n",
       " 14700.0,\n",
       " 10300.0,\n",
       " 9840.0,\n",
       " 2070.0,\n",
       " 560.0,\n",
       " 1800.0,\n",
       " 260.0,\n",
       " 620.0,\n",
       " 650.0,\n",
       " 0.0,\n",
       " 3400.0,\n",
       " 15940.0,\n",
       " 90540.0,\n",
       " 109250.0,\n",
       " 28060.0,\n",
       " 18320.0,\n",
       " 12540.0,\n",
       " 33600.0,\n",
       " 0.0,\n",
       " 3600.0,\n",
       " 15000.0,\n",
       " 10850.0,\n",
       " 5300.0,\n",
       " 19850.0,\n",
       " 880.0,\n",
       " 1500.0,\n",
       " 1900.0,\n",
       " 5225.0,\n",
       " 9400.0,\n",
       " 11560.0,\n",
       " 7860.0,\n",
       " 2320.0,\n",
       " 0.0,\n",
       " 600.0,\n",
       " 18540.0,\n",
       " 8000.0,\n",
       " 8880.0,\n",
       " 24930.0,\n",
       " 24250.0,\n",
       " 4640.0,\n",
       " 2700.0,\n",
       " 2440.0,\n",
       " 1220.0,\n",
       " 43700.0,\n",
       " 1100.0,\n",
       " 0.0,\n",
       " 5220.0,\n",
       " 4150.0,\n",
       " 7600.0,\n",
       " 3520.0,\n",
       " 280.0,\n",
       " 6540.0,\n",
       " 25080.0,\n",
       " 300.0,\n",
       " 3640.0,\n",
       " 2840.0,\n",
       " 2860.0,\n",
       " 220.0,\n",
       " 25880.0,\n",
       " 3040.0,\n",
       " 42255.0,\n",
       " 31750.0,\n",
       " 39330.0,\n",
       " ...]"
      ]
     },
     "execution_count": 41,
     "metadata": {},
     "output_type": "execute_result"
    }
   ],
   "source": [
    "df['profit'].tolist()"
   ]
  },
  {
   "cell_type": "code",
   "execution_count": 42,
   "id": "f17e4b37-9057-4827-b8a4-fc2cf7ff9344",
   "metadata": {},
   "outputs": [
    {
     "data": {
      "text/plain": [
       "24316800.0"
      ]
     },
     "execution_count": 42,
     "metadata": {},
     "output_type": "execute_result"
    }
   ],
   "source": [
    "df['profit'].max()"
   ]
  },
  {
   "cell_type": "code",
   "execution_count": 43,
   "id": "2f5f7385-6c5a-40c6-9fbf-abb39fb96797",
   "metadata": {},
   "outputs": [
    {
     "data": {
      "text/plain": [
       "3235"
      ]
     },
     "execution_count": 43,
     "metadata": {},
     "output_type": "execute_result"
    }
   ],
   "source": [
    "df['profit'].idxmax()"
   ]
  },
  {
   "cell_type": "code",
   "execution_count": 44,
   "id": "44ba16ec-af10-4afb-979a-3ac5a3468e1d",
   "metadata": {},
   "outputs": [
    {
     "data": {
      "text/plain": [
       "Unnamed: 0                                                          3235\n",
       "course_id                                                         625204\n",
       "course_title                                  The Web Developer Bootcamp\n",
       "url                    https://www.udemy.com/the-web-developer-bootcamp/\n",
       "is_paid                                                             True\n",
       "price                                                              200.0\n",
       "num_subscribers                                                   121584\n",
       "num_reviews                                                        27445\n",
       "num_lectures                                                         342\n",
       "level                                                         All Levels\n",
       "content_duration                                                43 hours\n",
       "published_timestamp                                 2015-11-02T21:13:27Z\n",
       "subject                                                  Web Development\n",
       "clean_course_title                                Web Developer Bootcamp\n",
       "profit                                                        24316800.0\n",
       "Name: 3235, dtype: object"
      ]
     },
     "execution_count": 44,
     "metadata": {},
     "output_type": "execute_result"
    }
   ],
   "source": [
    "df.iloc[3235]"
   ]
  },
  {
   "cell_type": "code",
   "execution_count": 45,
   "id": "d391b988-0187-47a6-ae98-3963956f60d1",
   "metadata": {},
   "outputs": [
    {
     "data": {
      "text/plain": [
       "is_paid\n",
       "True                                           2738\n",
       "TRUE                                            634\n",
       "False                                           264\n",
       "FALSE                                            46\n",
       "https://www.udemy.com/learnguitartoworship/       1\n",
       "Name: count, dtype: int64"
      ]
     },
     "execution_count": 45,
     "metadata": {},
     "output_type": "execute_result"
    }
   ],
   "source": [
    "df['is_paid'].value_counts()"
   ]
  },
  {
   "cell_type": "code",
   "execution_count": 46,
   "id": "bcb5c43a-1b2e-460f-ba43-3375dd27ffce",
   "metadata": {},
   "outputs": [],
   "source": [
    "paid_dic = {'True':True, 'TRUE':True, 'False': False, 'FALSE':False, 'https://www.udemy.com/learnguitartoworship/':True }  "
   ]
  },
  {
   "cell_type": "code",
   "execution_count": 47,
   "id": "9fd72bed-d497-4b29-963d-4ae0b566f700",
   "metadata": {},
   "outputs": [],
   "source": [
    "df['is_paid']=df['is_paid'].map(paid_dic)"
   ]
  },
  {
   "cell_type": "code",
   "execution_count": 48,
   "id": "fc78c36a-8faf-4aa2-b80e-012b9d05623f",
   "metadata": {},
   "outputs": [
    {
     "data": {
      "text/plain": [
       "is_paid\n",
       "True     3373\n",
       "False     310\n",
       "Name: count, dtype: int64"
      ]
     },
     "execution_count": 48,
     "metadata": {},
     "output_type": "execute_result"
    }
   ],
   "source": [
    "df['is_paid'].value_counts()"
   ]
  },
  {
   "cell_type": "code",
   "execution_count": 49,
   "id": "1f79c5aa-2a63-42ae-aee3-62110c2adc46",
   "metadata": {},
   "outputs": [
    {
     "data": {
      "image/png": "[encoded data removed]",
      "text/plain": [
       "<Figure size 640x480 with 1 Axes>"
      ]
     },
     "metadata": {},
     "output_type": "display_data"
    }
   ],
   "source": [
    "df['is_paid'].value_counts().plot(kind='bar')\n",
    "plt.show()"
   ]
  },
  {
   "cell_type": "code",
   "execution_count": 50,
   "id": "2ec8ad63-0231-4659-8c92-f4b7cb37a58f",
   "metadata": {},
   "outputs": [
    {
     "data": {
      "text/plain": [
       "0       2017-01-18T20:58:58Z\n",
       "1       2017-03-09T16:34:20Z\n",
       "2       2016-12-19T19:26:30Z\n",
       "3       2017-05-30T20:07:24Z\n",
       "4       2016-12-13T14:57:18Z\n",
       "                ...         \n",
       "3678    2016-06-14T17:36:46Z\n",
       "3679    2017-03-10T22:24:30Z\n",
       "3680    2015-12-30T16:41:42Z\n",
       "3681    2016-08-11T19:06:15Z\n",
       "3682    2014-09-28T19:51:11Z\n",
       "Name: published_timestamp, Length: 3683, dtype: object"
      ]
     },
     "execution_count": 50,
     "metadata": {},
     "output_type": "execute_result"
    }
   ],
   "source": [
    "df['published_timestamp']"
   ]
  },
  {
   "cell_type": "code",
   "execution_count": 51,
   "id": "358b61ef-dcf0-4616-a261-6492de4f1166",
   "metadata": {},
   "outputs": [
    {
     "data": {
      "text/plain": [
       "0       [2017-01-18, 20:58:58Z]\n",
       "1       [2017-03-09, 16:34:20Z]\n",
       "2       [2016-12-19, 19:26:30Z]\n",
       "3       [2017-05-30, 20:07:24Z]\n",
       "4       [2016-12-13, 14:57:18Z]\n",
       "                 ...           \n",
       "3678    [2016-06-14, 17:36:46Z]\n",
       "3679    [2017-03-10, 22:24:30Z]\n",
       "3680    [2015-12-30, 16:41:42Z]\n",
       "3681    [2016-08-11, 19:06:15Z]\n",
       "3682    [2014-09-28, 19:51:11Z]\n",
       "Name: published_timestamp, Length: 3683, dtype: object"
      ]
     },
     "execution_count": 51,
     "metadata": {},
     "output_type": "execute_result"
    }
   ],
   "source": [
    "df['published_timestamp'].str.split('T')"
   ]
  },
  {
   "cell_type": "code",
   "execution_count": 52,
   "id": "6e86c9b2-6926-49b3-9213-d5c5cfe5f9df",
   "metadata": {},
   "outputs": [],
   "source": [
    "df['Date_of_pub']=df['published_timestamp'].str.split('T').str[0]"
   ]
  },
  {
   "cell_type": "code",
   "execution_count": 53,
   "id": "9a9f3e71-1203-4f1f-9cb5-237b2917af32",
   "metadata": {},
   "outputs": [
    {
     "data": {
      "text/plain": [
       "0       2017-01-18\n",
       "1       2017-03-09\n",
       "2       2016-12-19\n",
       "3       2017-05-30\n",
       "4       2016-12-13\n",
       "           ...    \n",
       "3678    2016-06-14\n",
       "3679    2017-03-10\n",
       "3680    2015-12-30\n",
       "3681    2016-08-11\n",
       "3682    2014-09-28\n",
       "Name: Date_of_pub, Length: 3683, dtype: object"
      ]
     },
     "execution_count": 53,
     "metadata": {},
     "output_type": "execute_result"
    }
   ],
   "source": [
    "df['Date_of_pub']"
   ]
  },
  {
   "cell_type": "code",
   "execution_count": 54,
   "id": "990d2ef8-ba30-46e8-bce4-f3601b9fcabe",
   "metadata": {},
   "outputs": [
    {
     "data": {
      "text/html": [
       "<div>\n",
       "<style scoped>\n",
       "    .dataframe tbody tr th:only-of-type {\n",
       "        vertical-align: middle;\n",
       "    }\n",
       "\n",
       "    .dataframe tbody tr th {\n",
       "        vertical-align: top;\n",
       "    }\n",
       "\n",
       "    .dataframe thead th {\n",
       "        text-align: right;\n",
       "    }\n",
       "</style>\n",
       "<table border=\"1\" class=\"dataframe\">\n",
       "  <thead>\n",
       "    <tr style=\"text-align: right;\">\n",
       "      <th></th>\n",
       "      <th>Unnamed: 0</th>\n",
       "      <th>course_id</th>\n",
       "      <th>course_title</th>\n",
       "      <th>url</th>\n",
       "      <th>is_paid</th>\n",
       "      <th>price</th>\n",
       "      <th>num_subscribers</th>\n",
       "      <th>num_reviews</th>\n",
       "      <th>num_lectures</th>\n",
       "      <th>level</th>\n",
       "      <th>content_duration</th>\n",
       "      <th>published_timestamp</th>\n",
       "      <th>subject</th>\n",
       "      <th>clean_course_title</th>\n",
       "      <th>profit</th>\n",
       "      <th>Date_of_pub</th>\n",
       "    </tr>\n",
       "  </thead>\n",
       "  <tbody>\n",
       "    <tr>\n",
       "      <th>0</th>\n",
       "      <td>0</td>\n",
       "      <td>1070968</td>\n",
       "      <td>Ultimate Investment Banking Course</td>\n",
       "      <td>https://www.udemy.com/ultimate-investment-bank...</td>\n",
       "      <td>True</td>\n",
       "      <td>200.0</td>\n",
       "      <td>2147</td>\n",
       "      <td>23</td>\n",
       "      <td>51</td>\n",
       "      <td>All Levels</td>\n",
       "      <td>1.5 hours</td>\n",
       "      <td>2017-01-18T20:58:58Z</td>\n",
       "      <td>Business Finance</td>\n",
       "      <td>Ultimate Investment Banking Course</td>\n",
       "      <td>429400.0</td>\n",
       "      <td>2017-01-18</td>\n",
       "    </tr>\n",
       "    <tr>\n",
       "      <th>1</th>\n",
       "      <td>1</td>\n",
       "      <td>1113822</td>\n",
       "      <td>Complete GST Course &amp; Certification - Grow You...</td>\n",
       "      <td>https://www.udemy.com/goods-and-services-tax/</td>\n",
       "      <td>True</td>\n",
       "      <td>75.0</td>\n",
       "      <td>2792</td>\n",
       "      <td>923</td>\n",
       "      <td>274</td>\n",
       "      <td>All Levels</td>\n",
       "      <td>39 hours</td>\n",
       "      <td>2017-03-09T16:34:20Z</td>\n",
       "      <td>Business Finance</td>\n",
       "      <td>Complete GST Course  Certification  Grow Practice</td>\n",
       "      <td>209400.0</td>\n",
       "      <td>2017-03-09</td>\n",
       "    </tr>\n",
       "    <tr>\n",
       "      <th>2</th>\n",
       "      <td>2</td>\n",
       "      <td>1006314</td>\n",
       "      <td>Financial Modeling for Business Analysts and C...</td>\n",
       "      <td>https://www.udemy.com/financial-modeling-for-b...</td>\n",
       "      <td>True</td>\n",
       "      <td>45.0</td>\n",
       "      <td>2174</td>\n",
       "      <td>74</td>\n",
       "      <td>51</td>\n",
       "      <td>Intermediate Level</td>\n",
       "      <td>2.5 hours</td>\n",
       "      <td>2016-12-19T19:26:30Z</td>\n",
       "      <td>Business Finance</td>\n",
       "      <td>Financial Modeling Business Analysts Consultants</td>\n",
       "      <td>97830.0</td>\n",
       "      <td>2016-12-19</td>\n",
       "    </tr>\n",
       "    <tr>\n",
       "      <th>3</th>\n",
       "      <td>3</td>\n",
       "      <td>1210588</td>\n",
       "      <td>Beginner to Pro - Financial Analysis in Excel ...</td>\n",
       "      <td>https://www.udemy.com/complete-excel-finance-c...</td>\n",
       "      <td>True</td>\n",
       "      <td>95.0</td>\n",
       "      <td>2451</td>\n",
       "      <td>11</td>\n",
       "      <td>36</td>\n",
       "      <td>All Levels</td>\n",
       "      <td>3 hours</td>\n",
       "      <td>2017-05-30T20:07:24Z</td>\n",
       "      <td>Business Finance</td>\n",
       "      <td>Beginner Pro  Financial Analysis Excel 2017</td>\n",
       "      <td>232845.0</td>\n",
       "      <td>2017-05-30</td>\n",
       "    </tr>\n",
       "    <tr>\n",
       "      <th>4</th>\n",
       "      <td>4</td>\n",
       "      <td>1011058</td>\n",
       "      <td>How To Maximize Your Profits Trading Options</td>\n",
       "      <td>https://www.udemy.com/how-to-maximize-your-pro...</td>\n",
       "      <td>True</td>\n",
       "      <td>200.0</td>\n",
       "      <td>1276</td>\n",
       "      <td>45</td>\n",
       "      <td>26</td>\n",
       "      <td>Intermediate Level</td>\n",
       "      <td>2 hours</td>\n",
       "      <td>2016-12-13T14:57:18Z</td>\n",
       "      <td>Business Finance</td>\n",
       "      <td>Maximize Profits Trading Options</td>\n",
       "      <td>255200.0</td>\n",
       "      <td>2016-12-13</td>\n",
       "    </tr>\n",
       "    <tr>\n",
       "      <th>...</th>\n",
       "      <td>...</td>\n",
       "      <td>...</td>\n",
       "      <td>...</td>\n",
       "      <td>...</td>\n",
       "      <td>...</td>\n",
       "      <td>...</td>\n",
       "      <td>...</td>\n",
       "      <td>...</td>\n",
       "      <td>...</td>\n",
       "      <td>...</td>\n",
       "      <td>...</td>\n",
       "      <td>...</td>\n",
       "      <td>...</td>\n",
       "      <td>...</td>\n",
       "      <td>...</td>\n",
       "      <td>...</td>\n",
       "    </tr>\n",
       "    <tr>\n",
       "      <th>3678</th>\n",
       "      <td>3678</td>\n",
       "      <td>775618</td>\n",
       "      <td>Learn jQuery from Scratch - Master of JavaScri...</td>\n",
       "      <td>https://www.udemy.com/easy-jquery-for-beginner...</td>\n",
       "      <td>True</td>\n",
       "      <td>100.0</td>\n",
       "      <td>1040</td>\n",
       "      <td>14</td>\n",
       "      <td>21</td>\n",
       "      <td>All Levels</td>\n",
       "      <td>2 hours</td>\n",
       "      <td>2016-06-14T17:36:46Z</td>\n",
       "      <td>Web Development</td>\n",
       "      <td>Learn jQuery Scratch  Master JavaScript library</td>\n",
       "      <td>104000.0</td>\n",
       "      <td>2016-06-14</td>\n",
       "    </tr>\n",
       "    <tr>\n",
       "      <th>3679</th>\n",
       "      <td>3679</td>\n",
       "      <td>1088178</td>\n",
       "      <td>How To Design A WordPress Website With No Codi...</td>\n",
       "      <td>https://www.udemy.com/how-to-make-a-wordpress-...</td>\n",
       "      <td>True</td>\n",
       "      <td>25.0</td>\n",
       "      <td>306</td>\n",
       "      <td>3</td>\n",
       "      <td>42</td>\n",
       "      <td>Beginner Level</td>\n",
       "      <td>3.5 hours</td>\n",
       "      <td>2017-03-10T22:24:30Z</td>\n",
       "      <td>Web Development</td>\n",
       "      <td>Design WordPress Website Coding</td>\n",
       "      <td>7650.0</td>\n",
       "      <td>2017-03-10</td>\n",
       "    </tr>\n",
       "    <tr>\n",
       "      <th>3680</th>\n",
       "      <td>3680</td>\n",
       "      <td>635248</td>\n",
       "      <td>Learn and Build using Polymer</td>\n",
       "      <td>https://www.udemy.com/learn-and-build-using-po...</td>\n",
       "      <td>True</td>\n",
       "      <td>40.0</td>\n",
       "      <td>513</td>\n",
       "      <td>169</td>\n",
       "      <td>48</td>\n",
       "      <td>All Levels</td>\n",
       "      <td>3.5 hours</td>\n",
       "      <td>2015-12-30T16:41:42Z</td>\n",
       "      <td>Web Development</td>\n",
       "      <td>Learn Build Polymer</td>\n",
       "      <td>20520.0</td>\n",
       "      <td>2015-12-30</td>\n",
       "    </tr>\n",
       "    <tr>\n",
       "      <th>3681</th>\n",
       "      <td>3681</td>\n",
       "      <td>905096</td>\n",
       "      <td>CSS Animations: Create Amazing Effects on Your...</td>\n",
       "      <td>https://www.udemy.com/css-animations-create-am...</td>\n",
       "      <td>True</td>\n",
       "      <td>50.0</td>\n",
       "      <td>300</td>\n",
       "      <td>31</td>\n",
       "      <td>38</td>\n",
       "      <td>All Levels</td>\n",
       "      <td>3 hours</td>\n",
       "      <td>2016-08-11T19:06:15Z</td>\n",
       "      <td>Web Development</td>\n",
       "      <td>CSS Animations Create Amazing Effects Website</td>\n",
       "      <td>15000.0</td>\n",
       "      <td>2016-08-11</td>\n",
       "    </tr>\n",
       "    <tr>\n",
       "      <th>3682</th>\n",
       "      <td>3682</td>\n",
       "      <td>297602</td>\n",
       "      <td>Using MODX CMS to Build Websites: A Beginner's...</td>\n",
       "      <td>https://www.udemy.com/using-modx-cms-to-build-...</td>\n",
       "      <td>True</td>\n",
       "      <td>45.0</td>\n",
       "      <td>901</td>\n",
       "      <td>36</td>\n",
       "      <td>20</td>\n",
       "      <td>Beginner Level</td>\n",
       "      <td>2 hours</td>\n",
       "      <td>2014-09-28T19:51:11Z</td>\n",
       "      <td>Web Development</td>\n",
       "      <td>MODX CMS Build Websites Beginners Guide</td>\n",
       "      <td>40545.0</td>\n",
       "      <td>2014-09-28</td>\n",
       "    </tr>\n",
       "  </tbody>\n",
       "</table>\n",
       "<p>3683 rows × 16 columns</p>\n",
       "</div>"
      ],
      "text/plain": [
       "      Unnamed: 0  course_id  \\\n",
       "0              0    1070968   \n",
       "1              1    1113822   \n",
       "2              2    1006314   \n",
       "3              3    1210588   \n",
       "4              4    1011058   \n",
       "...          ...        ...   \n",
       "3678        3678     775618   \n",
       "3679        3679    1088178   \n",
       "3680        3680     635248   \n",
       "3681        3681     905096   \n",
       "3682        3682     297602   \n",
       "\n",
       "                                           course_title  \\\n",
       "0                    Ultimate Investment Banking Course   \n",
       "1     Complete GST Course & Certification - Grow You...   \n",
       "2     Financial Modeling for Business Analysts and C...   \n",
       "3     Beginner to Pro - Financial Analysis in Excel ...   \n",
       "4          How To Maximize Your Profits Trading Options   \n",
       "...                                                 ...   \n",
       "3678  Learn jQuery from Scratch - Master of JavaScri...   \n",
       "3679  How To Design A WordPress Website With No Codi...   \n",
       "3680                      Learn and Build using Polymer   \n",
       "3681  CSS Animations: Create Amazing Effects on Your...   \n",
       "3682  Using MODX CMS to Build Websites: A Beginner's...   \n",
       "\n",
       "                                                    url  is_paid  price  \\\n",
       "0     https://www.udemy.com/ultimate-investment-bank...     True  200.0   \n",
       "1         https://www.udemy.com/goods-and-services-tax/     True   75.0   \n",
       "2     https://www.udemy.com/financial-modeling-for-b...     True   45.0   \n",
       "3     https://www.udemy.com/complete-excel-finance-c...     True   95.0   \n",
       "4     https://www.udemy.com/how-to-maximize-your-pro...     True  200.0   \n",
       "...                                                 ...      ...    ...   \n",
       "3678  https://www.udemy.com/easy-jquery-for-beginner...     True  100.0   \n",
       "3679  https://www.udemy.com/how-to-make-a-wordpress-...     True   25.0   \n",
       "3680  https://www.udemy.com/learn-and-build-using-po...     True   40.0   \n",
       "3681  https://www.udemy.com/css-animations-create-am...     True   50.0   \n",
       "3682  https://www.udemy.com/using-modx-cms-to-build-...     True   45.0   \n",
       "\n",
       "      num_subscribers  num_reviews  num_lectures               level  \\\n",
       "0                2147           23            51          All Levels   \n",
       "1                2792          923           274          All Levels   \n",
       "2                2174           74            51  Intermediate Level   \n",
       "3                2451           11            36          All Levels   \n",
       "4                1276           45            26  Intermediate Level   \n",
       "...               ...          ...           ...                 ...   \n",
       "3678             1040           14            21          All Levels   \n",
       "3679              306            3            42      Beginner Level   \n",
       "3680              513          169            48          All Levels   \n",
       "3681              300           31            38          All Levels   \n",
       "3682              901           36            20      Beginner Level   \n",
       "\n",
       "     content_duration   published_timestamp           subject  \\\n",
       "0           1.5 hours  2017-01-18T20:58:58Z  Business Finance   \n",
       "1            39 hours  2017-03-09T16:34:20Z  Business Finance   \n",
       "2           2.5 hours  2016-12-19T19:26:30Z  Business Finance   \n",
       "3             3 hours  2017-05-30T20:07:24Z  Business Finance   \n",
       "4             2 hours  2016-12-13T14:57:18Z  Business Finance   \n",
       "...               ...                   ...               ...   \n",
       "3678          2 hours  2016-06-14T17:36:46Z   Web Development   \n",
       "3679        3.5 hours  2017-03-10T22:24:30Z   Web Development   \n",
       "3680        3.5 hours  2015-12-30T16:41:42Z   Web Development   \n",
       "3681          3 hours  2016-08-11T19:06:15Z   Web Development   \n",
       "3682          2 hours  2014-09-28T19:51:11Z   Web Development   \n",
       "\n",
       "                                     clean_course_title    profit Date_of_pub  \n",
       "0                    Ultimate Investment Banking Course  429400.0  2017-01-18  \n",
       "1     Complete GST Course  Certification  Grow Practice  209400.0  2017-03-09  \n",
       "2      Financial Modeling Business Analysts Consultants   97830.0  2016-12-19  \n",
       "3           Beginner Pro  Financial Analysis Excel 2017  232845.0  2017-05-30  \n",
       "4                      Maximize Profits Trading Options  255200.0  2016-12-13  \n",
       "...                                                 ...       ...         ...  \n",
       "3678    Learn jQuery Scratch  Master JavaScript library  104000.0  2016-06-14  \n",
       "3679                    Design WordPress Website Coding    7650.0  2017-03-10  \n",
       "3680                                Learn Build Polymer   20520.0  2015-12-30  \n",
       "3681      CSS Animations Create Amazing Effects Website   15000.0  2016-08-11  \n",
       "3682            MODX CMS Build Websites Beginners Guide   40545.0  2014-09-28  \n",
       "\n",
       "[3683 rows x 16 columns]"
      ]
     },
     "execution_count": 54,
     "metadata": {},
     "output_type": "execute_result"
    }
   ],
   "source": [
    "df"
   ]
  },
  {
   "cell_type": "code",
   "execution_count": 55,
   "id": "2f343db1-7576-4387-acd1-00444f9a6a78",
   "metadata": {},
   "outputs": [
    {
     "ename": "ValueError",
     "evalue": "time data \"3 hours\" doesn't match format \"%Y-%m-%d\", at position 2066. You might want to try:\n    - passing `format` if your strings have a consistent format;\n    - passing `format='ISO8601'` if your strings are all ISO8601 but not necessarily in exactly the same format;\n    - passing `format='mixed'`, and the format will be inferred for each element individually. You might want to use `dayfirst` alongside this.",
     "output_type": "error",
     "traceback": [
      "\u001b[1;31m---------------------------------------------------------------------------\u001b[0m",
      "\u001b[1;31mValueError\u001b[0m                                Traceback (most recent call last)",
      "Cell \u001b[1;32mIn[55], line 1\u001b[0m\n\u001b[1;32m----> 1\u001b[0m df[\u001b[38;5;124m'\u001b[39m\u001b[38;5;124mDate_of_pub\u001b[39m\u001b[38;5;124m'\u001b[39m]\u001b[38;5;241m=\u001b[39m pd\u001b[38;5;241m.\u001b[39mto_datetime(df[\u001b[38;5;124m'\u001b[39m\u001b[38;5;124mDate_of_pub\u001b[39m\u001b[38;5;124m'\u001b[39m],\u001b[38;5;28mformat\u001b[39m\u001b[38;5;241m=\u001b[39m\u001b[38;5;124m'\u001b[39m\u001b[38;5;124m%\u001b[39m\u001b[38;5;124mY-\u001b[39m\u001b[38;5;124m%\u001b[39m\u001b[38;5;124mm-\u001b[39m\u001b[38;5;132;01m%d\u001b[39;00m\u001b[38;5;124m'\u001b[39m)\n",
      "File \u001b[1;32m~\\anaconda3\\Lib\\site-packages\\pandas\\core\\tools\\datetimes.py:1067\u001b[0m, in \u001b[0;36mto_datetime\u001b[1;34m(arg, errors, dayfirst, yearfirst, utc, format, exact, unit, infer_datetime_format, origin, cache)\u001b[0m\n\u001b[0;32m   1065\u001b[0m         result \u001b[38;5;241m=\u001b[39m arg\u001b[38;5;241m.\u001b[39mmap(cache_array)\n\u001b[0;32m   1066\u001b[0m     \u001b[38;5;28;01melse\u001b[39;00m:\n\u001b[1;32m-> 1067\u001b[0m         values \u001b[38;5;241m=\u001b[39m convert_listlike(arg\u001b[38;5;241m.\u001b[39m_values, \u001b[38;5;28mformat\u001b[39m)\n\u001b[0;32m   1068\u001b[0m         result \u001b[38;5;241m=\u001b[39m arg\u001b[38;5;241m.\u001b[39m_constructor(values, index\u001b[38;5;241m=\u001b[39marg\u001b[38;5;241m.\u001b[39mindex, name\u001b[38;5;241m=\u001b[39marg\u001b[38;5;241m.\u001b[39mname)\n\u001b[0;32m   1069\u001b[0m \u001b[38;5;28;01melif\u001b[39;00m \u001b[38;5;28misinstance\u001b[39m(arg, (ABCDataFrame, abc\u001b[38;5;241m.\u001b[39mMutableMapping)):\n",
      "File \u001b[1;32m~\\anaconda3\\Lib\\site-packages\\pandas\\core\\tools\\datetimes.py:433\u001b[0m, in \u001b[0;36m_convert_listlike_datetimes\u001b[1;34m(arg, format, name, utc, unit, errors, dayfirst, yearfirst, exact)\u001b[0m\n\u001b[0;32m    431\u001b[0m \u001b[38;5;66;03m# `format` could be inferred, or user didn't ask for mixed-format parsing.\u001b[39;00m\n\u001b[0;32m    432\u001b[0m \u001b[38;5;28;01mif\u001b[39;00m \u001b[38;5;28mformat\u001b[39m \u001b[38;5;129;01mis\u001b[39;00m \u001b[38;5;129;01mnot\u001b[39;00m \u001b[38;5;28;01mNone\u001b[39;00m \u001b[38;5;129;01mand\u001b[39;00m \u001b[38;5;28mformat\u001b[39m \u001b[38;5;241m!=\u001b[39m \u001b[38;5;124m\"\u001b[39m\u001b[38;5;124mmixed\u001b[39m\u001b[38;5;124m\"\u001b[39m:\n\u001b[1;32m--> 433\u001b[0m     \u001b[38;5;28;01mreturn\u001b[39;00m _array_strptime_with_fallback(arg, name, utc, \u001b[38;5;28mformat\u001b[39m, exact, errors)\n\u001b[0;32m    435\u001b[0m result, tz_parsed \u001b[38;5;241m=\u001b[39m objects_to_datetime64(\n\u001b[0;32m    436\u001b[0m     arg,\n\u001b[0;32m    437\u001b[0m     dayfirst\u001b[38;5;241m=\u001b[39mdayfirst,\n\u001b[1;32m   (...)\u001b[0m\n\u001b[0;32m    441\u001b[0m     allow_object\u001b[38;5;241m=\u001b[39m\u001b[38;5;28;01mTrue\u001b[39;00m,\n\u001b[0;32m    442\u001b[0m )\n\u001b[0;32m    444\u001b[0m \u001b[38;5;28;01mif\u001b[39;00m tz_parsed \u001b[38;5;129;01mis\u001b[39;00m \u001b[38;5;129;01mnot\u001b[39;00m \u001b[38;5;28;01mNone\u001b[39;00m:\n\u001b[0;32m    445\u001b[0m     \u001b[38;5;66;03m# We can take a shortcut since the datetime64 numpy array\u001b[39;00m\n\u001b[0;32m    446\u001b[0m     \u001b[38;5;66;03m# is in UTC\u001b[39;00m\n",
      "File \u001b[1;32m~\\anaconda3\\Lib\\site-packages\\pandas\\core\\tools\\datetimes.py:467\u001b[0m, in \u001b[0;36m_array_strptime_with_fallback\u001b[1;34m(arg, name, utc, fmt, exact, errors)\u001b[0m\n\u001b[0;32m    456\u001b[0m \u001b[38;5;28;01mdef\u001b[39;00m \u001b[38;5;21m_array_strptime_with_fallback\u001b[39m(\n\u001b[0;32m    457\u001b[0m     arg,\n\u001b[0;32m    458\u001b[0m     name,\n\u001b[1;32m   (...)\u001b[0m\n\u001b[0;32m    462\u001b[0m     errors: \u001b[38;5;28mstr\u001b[39m,\n\u001b[0;32m    463\u001b[0m ) \u001b[38;5;241m-\u001b[39m\u001b[38;5;241m>\u001b[39m Index:\n\u001b[0;32m    464\u001b[0m \u001b[38;5;250m    \u001b[39m\u001b[38;5;124;03m\"\"\"\u001b[39;00m\n\u001b[0;32m    465\u001b[0m \u001b[38;5;124;03m    Call array_strptime, with fallback behavior depending on 'errors'.\u001b[39;00m\n\u001b[0;32m    466\u001b[0m \u001b[38;5;124;03m    \"\"\"\u001b[39;00m\n\u001b[1;32m--> 467\u001b[0m     result, tz_out \u001b[38;5;241m=\u001b[39m array_strptime(arg, fmt, exact\u001b[38;5;241m=\u001b[39mexact, errors\u001b[38;5;241m=\u001b[39merrors, utc\u001b[38;5;241m=\u001b[39mutc)\n\u001b[0;32m    468\u001b[0m     \u001b[38;5;28;01mif\u001b[39;00m tz_out \u001b[38;5;129;01mis\u001b[39;00m \u001b[38;5;129;01mnot\u001b[39;00m \u001b[38;5;28;01mNone\u001b[39;00m:\n\u001b[0;32m    469\u001b[0m         unit \u001b[38;5;241m=\u001b[39m np\u001b[38;5;241m.\u001b[39mdatetime_data(result\u001b[38;5;241m.\u001b[39mdtype)[\u001b[38;5;241m0\u001b[39m]\n",
      "File \u001b[1;32mstrptime.pyx:501\u001b[0m, in \u001b[0;36mpandas._libs.tslibs.strptime.array_strptime\u001b[1;34m()\u001b[0m\n",
      "File \u001b[1;32mstrptime.pyx:451\u001b[0m, in \u001b[0;36mpandas._libs.tslibs.strptime.array_strptime\u001b[1;34m()\u001b[0m\n",
      "File \u001b[1;32mstrptime.pyx:583\u001b[0m, in \u001b[0;36mpandas._libs.tslibs.strptime._parse_with_format\u001b[1;34m()\u001b[0m\n",
      "\u001b[1;31mValueError\u001b[0m: time data \"3 hours\" doesn't match format \"%Y-%m-%d\", at position 2066. You might want to try:\n    - passing `format` if your strings have a consistent format;\n    - passing `format='ISO8601'` if your strings are all ISO8601 but not necessarily in exactly the same format;\n    - passing `format='mixed'`, and the format will be inferred for each element individually. You might want to use `dayfirst` alongside this."
     ]
    }
   ],
   "source": [
    "df['Date_of_pub']= pd.to_datetime(df['Date_of_pub'],format='%Y-%m-%d')"
   ]
  },
  {
   "cell_type": "code",
   "execution_count": 56,
   "id": "5c86a9e0-5926-4087-a098-67e3067a72bf",
   "metadata": {},
   "outputs": [],
   "source": [
    "#One of the rows in the dataset contained an invalid date format (\"3 hours\") that caused an error when parsing dates.  \n",
    "df['Date_of_pub']=df['Date_of_pub'].str.replace('3 hours','2017-01-01')"
   ]
  },
  {
   "cell_type": "code",
   "execution_count": 58,
   "id": "01aa5eca-b9b7-4783-b4f5-568355b588b5",
   "metadata": {},
   "outputs": [],
   "source": [
    "df['Date_of_pub']= pd.to_datetime(df['Date_of_pub'],format='%Y-%m-%d')"
   ]
  },
  {
   "cell_type": "code",
   "execution_count": 60,
   "id": "576ec029-75a7-4163-8e85-604f3e435b44",
   "metadata": {},
   "outputs": [
    {
     "data": {
      "text/plain": [
       "Unnamed: 0                      int64\n",
       "course_id                       int64\n",
       "course_title                   object\n",
       "url                            object\n",
       "is_paid                          bool\n",
       "price                         float64\n",
       "num_subscribers                 int64\n",
       "num_reviews                     int64\n",
       "num_lectures                    int64\n",
       "level                          object\n",
       "content_duration               object\n",
       "published_timestamp            object\n",
       "subject                        object\n",
       "clean_course_title             object\n",
       "profit                        float64\n",
       "Date_of_pub            datetime64[ns]\n",
       "dtype: object"
      ]
     },
     "execution_count": 60,
     "metadata": {},
     "output_type": "execute_result"
    }
   ],
   "source": [
    "df.dtypes"
   ]
  },
  {
   "cell_type": "code",
   "execution_count": null,
   "id": "c88ef13d-7f77-4462-8929-0bf93f5bb558",
   "metadata": {},
   "outputs": [],
   "source": []
  }
 ],
 "metadata": {
  "kernelspec": {
   "display_name": "Python [conda env:base] *",
   "language": "python",
   "name": "conda-base-py"
  },
  "language_info": {
   "codemirror_mode": {
    "name": "ipython",
    "version": 3
   },
   "file_extension": ".py",
   "mimetype": "text/x-python",
   "name": "python",
   "nbconvert_exporter": "python",
   "pygments_lexer": "ipython3",
   "version": "3.12.7"
  }
 },
 "nbformat": 4,
 "nbformat_minor": 5
}
